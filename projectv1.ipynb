{
 "cells": [
  {
   "cell_type": "markdown",
   "metadata": {},
   "source": [
    "# Cogs 108 Final Project \n",
    "Allison Reiss, Brendan Taing, Evan Barosay, Gael Van der Lee, Daniel Benamou, Adham Rafiq\n",
    "\n",
    "The following data analysis is centered around the following research question:\n",
    "\n",
    "Can we distinguish the safety of different neighborhoods in San Diego based on the number of calls dispatched by the SDPD based on the degree of the call and number of dispatches, and if so, are they related to income and population?"
   ]
  },
  {
   "cell_type": "markdown",
   "metadata": {},
   "source": [
    "## Import and Clean Data"
   ]
  },
  {
   "cell_type": "code",
   "execution_count": 142,
   "metadata": {
    "collapsed": false
   },
   "outputs": [],
   "source": [
    "import pandas as pd\n",
    "import numpy as np\n",
    "import operator\n",
    "from operator import itemgetter\n",
    "\n",
    "\n",
    "#load data into dataframes\n",
    "beat = pd.read_csv('pd_beat_neighborhoods_datasd.csv')\n",
    "call = pd.read_csv('pd_calls_for_service_2017_datasd.csv')\n",
    "census = pd.read_csv('sandiegocensustract.csv')"
   ]
  },
  {
   "cell_type": "code",
   "execution_count": 143,
   "metadata": {
    "collapsed": false
   },
   "outputs": [],
   "source": [
    "# This is cleaning up the call df columns\n",
    "call = call[['date_time','street','streettype','beat', 'priority']]\n",
    "\n",
    "\n",
    "# This is cleaning up the census df to drop unneccessary columns\n",
    "census = census.drop('TRACTNUM', axis = 1)\n",
    "census = census.drop('TRACT', axis = 1)\n",
    "census = census.drop('SevCrwd', axis = 1)\n",
    "census = census.drop('TeenBirthAllWom', axis = 1)\n",
    "census = census.drop('MaltrtAllegRate', axis = 1)\n",
    "census = census.drop('ProxOffAlco', axis = 1)\n",
    "census = census.drop('ProxOnAlco', axis = 1)\n",
    "census = census.drop('TraffInjur', axis = 1)\n",
    "census = census.drop('SNAP_FdStmp', axis = 1)\n",
    "census = census.drop('n_FoodDesert', axis = 1)\n",
    "census = census.drop('pct_FoodDesert', axis = 1)\n",
    "census = census.drop('LiqCount', axis = 1)\n",
    "census = census.drop('VoterPartic', axis = 1)\n",
    "census = census.drop('HghSchOrHigh', axis = 1)\n",
    "census = census.drop('Uninsured', axis = 1)\n",
    "census = census.drop('PovertyPctl', axis = 1)\n",
    "census = census.drop('Longitude', axis = 1)\n",
    "census = census.drop('Latitude', axis = 1)\n",
    "census = census.drop('LowBirthWeight', axis = 1)\n",
    "census = census.drop('LowBirthWeightPctl', axis = 1)\n",
    "census = census.drop('PollutionBurdenPctl', axis = 1)\n",
    "census = census.drop('CES20Score', axis = 1)\n",
    "census = census.drop('SingMother', axis = 1)\n",
    "census = census.drop('TeenBirthProportion', axis = 1)\n",
    "census = census.drop('PollutionBurdenScore', axis = 1)\n",
    "census = census.drop('CES20PercentileRange', axis = 1)\n",
    "census = census.drop('PopCharScore', axis = 1)\n",
    "census = census.drop('PopCharPctl', axis = 1)\n",
    "census = census.drop('FosterCareEntry', axis = 1)\n",
    "census = census.drop('TotalPov', axis = 1)\n",
    "census = census.drop('ChildPov', axis = 1)\n",
    "census = census.drop('Education', axis = 1)\n",
    "\n",
    "# change names of columns in beat dataframe to be compatible for merge\n",
    "beat.columns = [\n",
    "    'beat', 'neighborhood'\n",
    "]"
   ]
  },
  {
   "cell_type": "code",
   "execution_count": 144,
   "metadata": {
    "collapsed": false
   },
   "outputs": [],
   "source": [
    "# Replace date_time column to include only year\n",
    "call['date_time'] = call['date_time'].str[:4]\n",
    "call.columns = ['year','street','streettype','beat', 'priority']"
   ]
  },
  {
   "cell_type": "code",
   "execution_count": 145,
   "metadata": {
    "collapsed": false
   },
   "outputs": [],
   "source": [
    "# Replace all 0s and 999s in beat with NaN. \n",
    "call['beat'] = call['beat'].replace(0,'NaN')\n",
    "call['beat'] = call['beat'].replace(999,'NaN')\n",
    "\n",
    "# Drop all rows with null values\n",
    "call = call.dropna(how='any')"
   ]
  },
  {
   "cell_type": "code",
   "execution_count": 146,
   "metadata": {
    "collapsed": false
   },
   "outputs": [],
   "source": [
    "# Merge the call dataframe with beat dataframe to replace beat code with actual neighborhood\n",
    "call = pd.merge(call, beat, on='beat')\n",
    "\n",
    "call = call.drop(['beat'], axis=1)"
   ]
  },
  {
   "cell_type": "markdown",
   "metadata": {
    "collapsed": true
   },
   "source": [
    "## Analyze the Call dataframe and create a Heatmap to show dangerous areas"
   ]
  },
  {
   "cell_type": "code",
   "execution_count": 147,
   "metadata": {
    "collapsed": false
   },
   "outputs": [],
   "source": [
    "### PROBABLY DELETE THIS LATER?? I don't think we need it anymore lol\n",
    "\n",
    "#  Function Name: get_threat_lvl\n",
    "#  Purpose: to find the \"threat level\" of a neighborhoof\n",
    "#          Threat level = sum of (priority of call*number of calls) for each neighborhood (can later do street)\n",
    "#  Parameter(s): df (Dataframe containing all of the calls/priorities for a certain neighborhood)\n",
    "#  Returns: The threat level of the neighborhood (float)\n",
    "#\n",
    "# Example Usage: \n",
    "#   get_threat_lvl(PB_df) could return 3.5 (idk if thats the actual value lol just an example)\n",
    "\n",
    "def get_threat_lvl(df):\n",
    "    # get the counts for each number of priority call in that neighborhood\n",
    "    sum_1 = np.count_nonzero(df['priority'] == 1.0)\n",
    "    sum_2 = np.count_nonzero(df['priority'] == 2.0)\n",
    "    sum_3 = np.count_nonzero(df['priority'] == 3.0)\n",
    "    sum_4 = np.count_nonzero(df['priority'] == 4.0)\n",
    "    \n",
    "    threat_lvl = (sum_1*1.0) + (sum_2*2.0) + (sum_3*3.0) + (sum_4*4.0)\n",
    "    \n",
    "    return threat_lvl"
   ]
  },
  {
   "cell_type": "code",
   "execution_count": 148,
   "metadata": {
    "collapsed": false
   },
   "outputs": [],
   "source": [
    "# Get list of unique neighborhoods in dataframe\n",
    "unique_neighborhoods = call['neighborhood'].unique()"
   ]
  },
  {
   "cell_type": "code",
   "execution_count": 149,
   "metadata": {
    "collapsed": false
   },
   "outputs": [],
   "source": [
    "# This is returning a series of the neighborhoods with the most calls from greatest to least\n",
    "# We might be able to show a heat map of this later\n",
    "neighborhoodcalls = call['neighborhood'].value_counts()"
   ]
  },
  {
   "cell_type": "code",
   "execution_count": 150,
   "metadata": {
    "collapsed": false
   },
   "outputs": [],
   "source": [
    "# Loop through list and run algorithm on each neighborhood to get the safety level of each neighborhood\n",
    "# and add it to a dict -- (neighborhood, safety level) pair\n",
    "\n",
    "#create a dict to store the priority call sums per neighborhood\n",
    "sketchy_lvl_dict = {}\n",
    "\n",
    "#idx is the neighborhood name, i is the index\n",
    "for idx,i in zip(call['neighborhood'],range(call['neighborhood'].size)):\n",
    "    if idx in sketchy_lvl_dict:\n",
    "        sketchy_lvl_dict[idx] = sketchy_lvl_dict[idx] + call['priority'][i]\n",
    "    else:\n",
    "        sketchy_lvl_dict[idx] = call['priority'][i]"
   ]
  },
  {
   "cell_type": "code",
   "execution_count": 151,
   "metadata": {
    "collapsed": false
   },
   "outputs": [],
   "source": [
    "# sort the dict to priority call sums in order of least to greatest\n",
    "sorted_sketchy = sorted(sketchy_lvl_dict.items(), key=operator.itemgetter(1))\n",
    "max_sketchiness = max(sorted_safety,key=itemgetter(1))[1]"
   ]
  },
  {
   "cell_type": "code",
   "execution_count": 152,
   "metadata": {
    "collapsed": false
   },
   "outputs": [],
   "source": [
    "# Get the comparative percentages by dividing by highest sketchiness value to make data easier to read\n",
    "for key in sketchy_lvl_dict:\n",
    "    sketchy_lvl_dict[key] = (sketchy_lvl_dict[key] / max_sketchiness) * 100"
   ]
  },
  {
   "cell_type": "code",
   "execution_count": 153,
   "metadata": {
    "collapsed": false
   },
   "outputs": [
    {
     "data": {
      "text/plain": [
       "[('Islenair', 0.51895931358981451),\n",
       " ('Tijuana River Valley', 0.62275117630777743),\n",
       " ('Burlingame', 0.69194575145308612),\n",
       " ('Broadway Heights', 0.69194575145308612),\n",
       " ('Rancho Encantada', 1.3631331303625795),\n",
       " ('Qualcomm', 1.5707168557985054),\n",
       " ('San Pasqual', 1.6952670910600609),\n",
       " ('Alta Vista', 1.8959313589814559),\n",
       " ('Torrey Highlands', 2.3802933849986161),\n",
       " ('North City', 2.9200110711320235),\n",
       " ('La Playa', 3.0168834763354551),\n",
       " ('Torrey Pines', 3.3974536396346524),\n",
       " ('Black Mountain Ranch', 3.6050373650705785),\n",
       " ('Wooded Area', 3.7849432604483804),\n",
       " ('Fox Canyon', 4.5737614171048993),\n",
       " ('Fairmount Park', 4.6429559922502079),\n",
       " ('Harborview', 5.5701632991973424),\n",
       " ('Sunset Cliffs', 5.6255189593135899),\n",
       " ('Miramar Ranch North', 5.7500691945751452),\n",
       " ('Adams North', 5.9092167174093557),\n",
       " ('Rolando Park', 6.1029615278162188),\n",
       " ('Shelltown', 6.123719900359812),\n",
       " ('Redwood Village', 6.2067533905341827),\n",
       " ('Azalea/Hollywood Park', 6.2344312205923051),\n",
       " ('Swan Canyon', 6.324384168281207),\n",
       " ('South Park', 6.3797398283974527),\n",
       " ('Torrey Preserve', 6.3935787434265157),\n",
       " ('Chollas Creek', 6.5181289786880701),\n",
       " ('Petco Park', 6.6772765015222806),\n",
       " ('Loma Portal', 6.6911154165513427),\n",
       " ('Sabre Springs', 6.7464710766675884),\n",
       " ('Emerald Hills', 6.9540548021035153),\n",
       " ('Chollas View', 7.8812621090506507),\n",
       " ('Del Cerro', 7.9158593966233051),\n",
       " ('Border', 8.1926376972045389),\n",
       " (\"O'Farrell\", 8.2341544422917252),\n",
       " ('Clairemont Mesa West', 8.28951010240797),\n",
       " ('Mt. Hope', 8.5662884029892048),\n",
       " ('Stockton', 9.1406033766952675),\n",
       " ('Del Mar Heights', 9.3135898145585383),\n",
       " ('Mission Hills', 9.3343481871021314),\n",
       " ('San Carlos', 9.389703847218378),\n",
       " ('Scripps Ranch', 9.4035427622474401),\n",
       " ('Birdland', 9.4658178798782178),\n",
       " ('Roseville/Fleet Ridge', 9.5626902850816506),\n",
       " ('Kensington', 10.206199833933018),\n",
       " ('Jamacha/Lomita', 10.316911154165513),\n",
       " ('Horton Plaza', 10.351508441738169),\n",
       " ('Ridgeview/Webster', 10.579850539717686),\n",
       " ('Little Italy', 10.60752836977581),\n",
       " ('Cherokee Point', 10.752836977580959),\n",
       " ('Ocean Crest', 10.835870467755328),\n",
       " ('Grant Hill', 10.92582341544423),\n",
       " ('Midtown', 11.133407140880156),\n",
       " ('Paradise Hills', 11.209521173539995),\n",
       " ('Palm City', 11.354829781345142),\n",
       " ('Carmel Mountain', 11.465541101577637),\n",
       " ('Mission Bay Park', 11.520896761693884),\n",
       " ('Balboa Park', 11.56241350678107),\n",
       " ('Tierrasanta', 11.569332964295599),\n",
       " ('Allied Gardens', 11.769997232216994),\n",
       " ('Golden Hill', 11.963742042623858),\n",
       " ('Sherman Heights', 11.97758095765292),\n",
       " ('Encanto', 12.115970107943538),\n",
       " ('College West', 12.233600885690562),\n",
       " ('Southcrest', 12.295876003321339),\n",
       " ('Skyline', 12.420426238582895),\n",
       " ('Cortez', 13.084694159977857),\n",
       " ('Mission Valley West', 13.223083310268475),\n",
       " ('Old Town', 13.285358427899252),\n",
       " ('Bay Ho', 13.340714088015499),\n",
       " ('Teralta West', 13.686686963742043),\n",
       " ('Lake Murray', 13.998062551895933),\n",
       " ('Fairmount Village', 14.081096042070302),\n",
       " ('Otay Mesa', 14.530860780514807),\n",
       " ('Marina', 14.537780238029338),\n",
       " ('Miramar', 14.662330473290893),\n",
       " ('El Cerrito', 15.741765845557708),\n",
       " ('Nestor', 15.790202048159424),\n",
       " ('Corridor', 15.804040963188488),\n",
       " ('Egger Highlands', 16.599778577359537),\n",
       " ('Morena', 16.689731525048437),\n",
       " ('Normal Heights', 17.243288126210903),\n",
       " ('Lincoln Park', 17.900636590091338),\n",
       " ('Castle', 18.128978688070855),\n",
       " ('Valencia Park', 18.142817603099918),\n",
       " ('Mission Beach', 18.163575975643511),\n",
       " ('Teralta East', 18.218931635759755),\n",
       " ('Talmadge', 18.447273733739276),\n",
       " ('College East', 18.509548851370052),\n",
       " ('North Clairemont', 19.035427622474398),\n",
       " ('University Heights', 19.533628563520619),\n",
       " ('Rancho Bernardo', 20.301688347633544),\n",
       " ('Rancho Penasquitos', 21.443398837531138),\n",
       " ('Mission Valley East', 21.533351785220038),\n",
       " ('Bay Terraces', 22.34984777193468),\n",
       " ('Grantville', 22.460559092167173),\n",
       " ('Sorrento Valley', 22.495156379739829),\n",
       " ('Oak Park', 23.048712980902298),\n",
       " ('Bay Park', 23.15250484362026),\n",
       " ('Linda Vista', 23.194021588707443),\n",
       " ('Park West', 24.349570993634099),\n",
       " ('Colina del Sol', 24.550235261555496),\n",
       " ('Rolando', 24.750899529476889),\n",
       " ('Point Loma Heights', 24.771657902020479),\n",
       " ('Barrio Logan', 27.207306947135347),\n",
       " ('Carmel Valley', 31.199833933019651),\n",
       " ('Serra Mesa', 31.898699141987269),\n",
       " ('Mountain View', 32.915859396623304),\n",
       " ('Gaslamp', 33.704677553279822),\n",
       " ('Clairemont Mesa East', 34.050650429006367),\n",
       " ('San Ysidro', 35.074730141156934),\n",
       " ('Otay Mesa West', 36.680044284528094),\n",
       " ('La Jolla', 41.025463603653471),\n",
       " ('University City', 42.395516191530582),\n",
       " ('Kearny Mesa', 42.9144755051204),\n",
       " ('Ocean Beach', 43.744810406864104),\n",
       " ('Mira Mesa', 43.945474674785494),\n",
       " ('Core-Columbia', 51.183227234984777),\n",
       " ('Logan Heights', 51.287019097702732),\n",
       " ('Midway District', 58.98145585386105),\n",
       " ('Hillcrest', 64.828397453639624),\n",
       " ('North Park', 82.853584278992528),\n",
       " ('East Village', 84.092167174093547),\n",
       " ('Pacific Beach', 100.0)]"
      ]
     },
     "execution_count": 153,
     "metadata": {},
     "output_type": "execute_result"
    }
   ],
   "source": [
    "# sort the dict of percentages\n",
    "sketchy_percents = sorted(sketchy_lvl_dict.items(), key=operator.itemgetter(1))\n",
    "sketchy_percents"
   ]
  },
  {
   "cell_type": "code",
   "execution_count": null,
   "metadata": {
    "collapsed": true
   },
   "outputs": [],
   "source": []
  },
  {
   "cell_type": "code",
   "execution_count": 154,
   "metadata": {
    "collapsed": true
   },
   "outputs": [],
   "source": [
    "# upload Google API for HeatMaps"
   ]
  },
  {
   "cell_type": "code",
   "execution_count": 155,
   "metadata": {
    "collapsed": true
   },
   "outputs": [],
   "source": [
    "# Figure out how to make a heat map"
   ]
  },
  {
   "cell_type": "markdown",
   "metadata": {},
   "source": [
    "## The section below will start to analyze the correlations between income and other demographic variables "
   ]
  },
  {
   "cell_type": "code",
   "execution_count": 156,
   "metadata": {
    "collapsed": true
   },
   "outputs": [],
   "source": [
    "# We will fill in these steps after completing the first part of our analysis (the heat maps)"
   ]
  },
  {
   "cell_type": "code",
   "execution_count": 157,
   "metadata": {
    "collapsed": false
   },
   "outputs": [
    {
     "name": "stdout",
     "output_type": "stream",
     "text": [
      "238\n"
     ]
    },
    {
     "data": {
      "text/plain": [
       "array(['San Diego', 'San Marcos', 'Oceanside', 'Escondido', 'Vista',\n",
       "       'Carlsbad', 'El Cajon', 'Fallbrook', 'National City', 'La Mesa',\n",
       "       'San Ysidro', 'Encinitas', 'Lakeside', 'Chula Vista',\n",
       "       'Borrego Springs', 'Spring Valley', 'Poway', 'Santee',\n",
       "       'Imperial Beach', 'Campo', 'Warner Springs', 'Solana Beach',\n",
       "       'Lemon Grove', 'La Jolla', 'Valley Center', 'Ramona',\n",
       "       'Pauma Valley', 'Bonita', 'Coronado', 'Alpine', 'Descanso', 'Jamul',\n",
       "       'Cardiff By the Sea', 'Del Mar', 'Bonsall', 'Julian',\n",
       "       'Rancho Santa Fe', 'Camp Pendleton', nan], dtype=object)"
      ]
     },
     "execution_count": 157,
     "metadata": {},
     "output_type": "execute_result"
    }
   ],
   "source": [
    "#looking at unique neighborhood names, probably delete later but to visualize data\n",
    "print (census['NeighborhoodName'].unique().size)\n",
    "census['City'].unique()"
   ]
  },
  {
   "cell_type": "code",
   "execution_count": null,
   "metadata": {
    "collapsed": false
   },
   "outputs": [],
   "source": []
  },
  {
   "cell_type": "code",
   "execution_count": null,
   "metadata": {
    "collapsed": true
   },
   "outputs": [],
   "source": []
  }
 ],
 "metadata": {
  "kernelspec": {
   "display_name": "Python 3",
   "language": "python",
   "name": "python3"
  },
  "language_info": {
   "codemirror_mode": {
    "name": "ipython",
    "version": 3
   },
   "file_extension": ".py",
   "mimetype": "text/x-python",
   "name": "python",
   "nbconvert_exporter": "python",
   "pygments_lexer": "ipython3",
   "version": "3.6.0"
  }
 },
 "nbformat": 4,
 "nbformat_minor": 2
}
