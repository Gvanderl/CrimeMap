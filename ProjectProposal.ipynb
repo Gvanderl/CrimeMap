{
 "cells": [
  {
   "cell_type": "markdown",
   "metadata": {
    "deletable": true,
    "editable": true
   },
   "source": [
    "## COGS 108 - Assignment 4: Project Proposal"
   ]
  },
  {
   "cell_type": "markdown",
   "metadata": {
    "deletable": true,
    "editable": true
   },
   "source": [
    "## Important\n",
    "\n",
    "- Make sure all group member (3-5 people) are listed in the group members section.\n",
    "- ONE, and only one, member of your group should upload this notebook to TritonED. \n",
    "- Each member of the group will receive the same grade on this assignment. \n",
    "- Keep the file name the same: submit the file 'A4_ProjectProposal.ipynb'"
   ]
  },
  {
   "cell_type": "markdown",
   "metadata": {
    "deletable": true,
    "editable": true
   },
   "source": [
    "## Overview"
   ]
  },
  {
   "cell_type": "markdown",
   "metadata": {
    "deletable": true,
    "editable": true
   },
   "source": [
    "Read the project description, and detailed instructions for this assignment, in the 'A4_ProjectOutlineAndProposal' pdf."
   ]
  },
  {
   "cell_type": "markdown",
   "metadata": {
    "deletable": true,
    "editable": true
   },
   "source": [
    "## Group Members: Fill in the Student ID's of each group member here\n",
    "- A11889728\n",
    "- A12339687\n",
    "- A92112888\n",
    "- A11835716\n",
    "- A92057958\n",
    "- A13140791\n"
   ]
  },
  {
   "cell_type": "markdown",
   "metadata": {
    "deletable": true,
    "editable": true
   },
   "source": [
    "### Research Question\n",
    "\n",
    "What is your research question? (1-2 sentences)"
   ]
  },
  {
   "cell_type": "markdown",
   "metadata": {
    "deletable": true,
    "editable": true
   },
   "source": [
    "Can we distinguish the safety of different neighborhoods in San Diego based on the number of calls dispatched by the SDPD based on the degree of the call and number of dispatches, and if so, are they related to income and population? "
   ]
  },
  {
   "cell_type": "markdown",
   "metadata": {
    "deletable": true,
    "editable": true
   },
   "source": [
    "### Hypothesis\n",
    "\n",
    "What is your prediction (2-3 sentences)"
   ]
  },
  {
   "cell_type": "markdown",
   "metadata": {
    "deletable": true,
    "editable": true
   },
   "source": [
    "We predict that the police dispatch data will allow us to identify less safe neighborhoods in San Diego, and that there will be a correlation between income and crime rate. We expect there will be a negative correlation; crime rate will decrease as income goes up. In higher income areas, we predict lower degrees of priority calls and lower amounts of dispatches. In lower income regions, we predict higher degrees of priority calls and higher amounts of dispatches."
   ]
  },
  {
   "cell_type": "markdown",
   "metadata": {
    "deletable": true,
    "editable": true
   },
   "source": [
    "### Dataset(s)\n",
    "\n",
    "What data will you use to answer your question? Describe the dataset in terms of number of observations, what kind of features it contains, etc. You must use at least one dataset containing at least approximately 1000 observations (if your data are smaller but you feel they are sufficient, email Prof. Voytek). You are welcome (and in fact recommended) to find multiple datasets! If you do so, describe each one, and briefly explain how you will combine them together. "
   ]
  },
  {
   "cell_type": "markdown",
   "metadata": {
    "deletable": true,
    "editable": true
   },
   "source": [
    "*Fill in your dataset information here*\n",
    "\n",
    "(Copy this information for each dataset)\n",
    "- Dataset Name:\n",
    "- Link to the dataset:\n",
    "- Number of observations:\n",
    "\n",
    "1-2 sentences describing the dataset. \n",
    "\n",
    "If you plan to use multiple datasets, add 1-2 sentences about how you plan to combine these datasets.\n",
    "\n",
    "We will be using this dataset containing information regarding calls dispatched by the San Diego Police Department’s communications dispatch center. It contains the date and time of the incident, the address, code for type of call, disposition, beat(neighborhood) codes and priority of the call. \n",
    "\n",
    "- Dataset Name: pd_calls_for_service_2017_datasd.csv (Police Calls for Service)\n",
    "- Link to the dataset: https://data.sandiego.gov/datasets/police-calls-for-service/\n",
    "- Number of observations: (218652,14)\n",
    "\n",
    "This dataset contains the listings of San Diego Police Department beats and which neighborhoods they correspond to, and we will merge it with the first dataset to determine the neighborhood of the beat. \n",
    "\n",
    "- Dataset Name: pd_beat_neighborhoods_datasd.csv (Police Beats)\n",
    "- Link to the dataset: https://data.sandiego.gov/datasets/police-beats/\n",
    "- Number of observations: (125,2) \n",
    "\n",
    "This data contains the call disposition codes used by the police department, and what the disposition code means. We will combine this with the first data set to determine what type of call was being made for each incident. \n",
    "\n",
    "- Dataset Name: pd_dispo_codes_datasd.csv (Police Calls Disposition Codes)\n",
    "- Link to the dataset: https://data.sandiego.gov/datasets/police-calls-disposition-codes/\n",
    "- Number of observations: (41,2)\n",
    "\n",
    "This data set contains demographic census data such as population, education level, poverty, unemployment, neighborhood, etc. We will combine this data with all of the previous combined data to analyze any correlations between location, types of crime or police calls, and income level and population level. \n",
    "\n",
    "- Dataset Name: sandiegocensustract.xlsx (San Diego Census Tracts)\n",
    "- Link to the dataset: http://data.sandiegodata.org/dataset/san-diego-census-tracts \n",
    "- Number of observations: (625,41)\n"
   ]
  },
  {
   "cell_type": "markdown",
   "metadata": {
    "deletable": true,
    "editable": true
   },
   "source": [
    "### Background & Prior Work\n",
    "\n",
    "Why is this question of interest, what background information led you to your hypothesis, and why is this important?\n",
    "\n",
    "Find some relevant prior work, and reference them. Even if you think you have a totally novel question, find the most similar prior work you can, and discuss how it relates to your project. \n",
    "\n",
    "References can be research publications, but they need not be: blogs, github repositories, company websites, etc., are viable references if they are relevant to your project.\n",
    "\n",
    "(2-3 paragraphs, including at least 2 references)"
   ]
  },
  {
   "cell_type": "markdown",
   "metadata": {
    "deletable": true,
    "editable": true
   },
   "source": [
    "Our topic concerns public safety in our immediate community and can potentially provide  insight on how San Diego can more effectively allocate their resources in order to better protect San Diego civilians. We came up with our hypothesis based on socio-economic biases that lower income regions yield higher crime rates. A good amount of research has been conducted on crime, crime-related costs, and income inequality. However, we are finding there is less research that has been conducted on police dispatch calls in correlation to regional crime. \n",
    "References (include a link):\n",
    "- 1) http://www.sciencedirect.com/science/article/pii/S0165176507000201\n",
    "This study estimates the effect of income inequality on crime in U..S. counties. Similarly, our research study is looking at region incomes and the correlation of crime-related incidents. \n",
    "- 2) http://www.rand.org/content/dam/rand/pubs/occasional_papers/2010/RAND_OP279.pdf\n",
    "This study conducted research on crime-related events and how said information can provide insight for government and policy-makers when distributing resources for public safety (specifically referencing police budgets). The study measured crime by the amount of money spent in relation to crime-related scenarios, from preventative costs to house market prices to crime reduction costs. In other words, the study made the argument that the more money a region or neighborhood spends on crime, the less crime in that region. Our project follows a similar framework: we are using police dispatch calls to determine the amount of crime. The more calls there are, the more crime there is. This study worked to show the crime related costs in lieu of police hirings and the effectiveness. Our study will relate police calls by region and how the knowledge of these higher-crime regions can help government and policy makers to make changes in police/safety regulations. "
   ]
  },
  {
   "cell_type": "markdown",
   "metadata": {
    "deletable": true,
    "editable": true
   },
   "source": [
    "### Proposed Methods\n",
    "\n",
    "What methods will you use to analyze your data?\n",
    "\n",
    "- How 'clean' is the data? To the extent that it requires cleaning, how will you do so?\n",
    "- How will you analyze the data? Be as specific as you can. Briefly mention any pre-processing steps that are required for your methods (for example, checking data distributions and performing any transformations that may be required). Include a brief outline of how you will apply your chosen method(s). \n",
    "- What do you plan to report? Briefly mention any key visualizations you plan to create, and/or the kind of result you will be able to report that addresses your question (this could be, for example, the outcome of some statistical test(s), prediction error on a model, a model fit parameter, etc.).\n",
    "- Include a list of packages you expect to use for you project. If you plan to use packages we have not used in class, add a very brief description about them (a few words is sufficient). "
   ]
  },
  {
   "cell_type": "markdown",
   "metadata": {
    "deletable": true,
    "editable": true
   },
   "source": [
    "*Fill in your proposed methods information here:*\n",
    "\n",
    "*Data Cleaning (2-3 sentences)*\n",
    "The Police Calls Disposition Codes and Police Beats data both only have 2 columns of data, both of which are relevant and contain valid, non-null values, and therefore won’t require cleaning. However, the Police Calls for Services will require much more cleaning. We will remove all rows with 999 in the beat column, because it isn’t a valid code from the Police Beats data and they prevent us from establishing the location of the call. We will also remove irrelevant columns and potentially identifying data columns such as day, time and address, some of which contain NaN values as well. The San Diego Census Tract data has 41 columns, most of which we will not need in our analysis. We will remove the irrelevant columns, along with rows with NA data in the remaining relevant columns, and only keep the necessary columns such as neighborhood, population, poverty rate and unemployment rate. \n",
    "\n",
    "\n",
    "*Data Analysis (1-2 paragraphs)*\n",
    "We will start by merging the Police Calls for Service, Police Calls Disposition Codes, and Police Beats into a single dataframe. We will then delete the disposition code and beat code columns because we now have the explanations of the codes meanings and no longer need the code itself. Using the neighborhoods, we will merge cleaned Police Calls for Service and San Diego Census Tract data into a single dataframe, which will be the basis of our analysis. \n",
    "\n",
    "We will then create a histogram for the numbers of each severity of call for the neighborhoods to see if there is an obivious trend in the distributions. If needed, we will perform a log transform if the data is highly skewed and needs to be further analyzed. We will then transform this information onto a heat map to get a better visual representation. \n",
    "\n",
    "Once we have completed the analysis of the types of calls, we will move on to look at how other factors are related to crime. To do this, we will create a scatter matrix with income, severity of calls, education and unemployment levels to see if any trends emerge. We may then create separate data frames to map out bar graphs or other forms of charts for these data points so that we can try to analyze which variables are most highly correlated. \n",
    "\n",
    "\n",
    "*What to report (2-3 sentences)*\n",
    "We will be using a Google API to map the priority and number of calls to the corresponding neighborhoods to create a visual representation in the form of a heat map of what type of crimes tend to occur in what regions. We will also be comparing the population with number of crimes by using a scatter plot to see if there is correlation, and if possible we will map the line of best fit. We will then compare the poverty rates and unemployment rates in a similar manner, using scatter plots to visually determine if there is a correlation present. If we find strong enough correlations with each scatter plot, we may also create a heat map that maps this data to the neighborhoods so that we can compare the heat maps to one another, which may allow us to find additional correlations within regions. \n",
    "\n",
    "Packages we plan to use:\n",
    "- Pandas (to use their dataframe structures)\n",
    "- Matplotlib.pyplot (to plot graphs)\n",
    "- Numpy\n",
    "- Googlemaps (to get maps of san diego for the heatmaps)"
   ]
  },
  {
   "cell_type": "markdown",
   "metadata": {
    "deletable": true,
    "editable": true
   },
   "source": [
    "### Discussion\n",
    "\n",
    "What are the pitfalls and potential confounds of your data and/or methods? For example, how might biases in your data sources or analyses influence your interpretations? What will you do if you methods don't work and/or your hypotheses are wrong?\n",
    "\n",
    "(2-3 paragraphs)"
   ]
  },
  {
   "cell_type": "markdown",
   "metadata": {
    "deletable": true,
    "editable": true
   },
   "source": [
    "One potential confound with our data is the effect of population on crime rates. The areas with high population densities will have a higher amount of police dispatch calls because there are more people. To take this into account, we will find an average or median of dispatch calls per population density, and by comparing these ratios to each other, we can determine the safety of a neighborhood.\n",
    "\n",
    "A pitfall of our design is that none of us have ever tried to import a Google maps API to create heatmaps to represent our data. If our methods don’t work, we will have to find another way to represent our data, such as bar graphs for comparison and line graphs to show change over time.\n",
    "\n",
    "\n",
    "If our hypotheses are wrong, then we will use our conclusions to figure out why our hypotheses were wrong and what variables caused them. With the new information, we can form new hypotheses to answer the research question again."
   ]
  }
 ],
 "metadata": {
  "kernelspec": {
   "display_name": "Python 3",
   "language": "python",
   "name": "python3"
  },
  "language_info": {
   "codemirror_mode": {
    "name": "ipython",
    "version": 3
   },
   "file_extension": ".py",
   "mimetype": "text/x-python",
   "name": "python",
   "nbconvert_exporter": "python",
   "pygments_lexer": "ipython3",
   "version": "3.6.0"
  }
 },
 "nbformat": 4,
 "nbformat_minor": 2
}
